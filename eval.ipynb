{
 "cells": [
  {
   "cell_type": "code",
   "execution_count": 20,
   "metadata": {},
   "outputs": [
    {
     "name": "stdout",
     "output_type": "stream",
     "text": [
      "(1, 3, 64, 64)\n",
      "[[ 6.310167   1.1344156 -1.9126363 -5.54067  ]]\n"
     ]
    }
   ],
   "source": [
    "import onnxruntime\n",
    "import numpy as np\n",
    "import cv2\n",
    "\n",
    "# Load the ONNX model\n",
    "providers = ['CUDAExecutionProvider']\n",
    "ort_session = onnxruntime.InferenceSession(\"model.onnx\", providers=providers)\n",
    "\n",
    "# Load your input data and provide it to the model in the appropriate format\n",
    "image = cv2.imread(\"./data/0001.jpg\")\n",
    "image = cv2.cvtColor(image, cv2.COLOR_BGR2RGB)\n",
    "image = image.astype(np.float32)\n",
    "image /= 255\n",
    "# normalize by (0.4450, ), (0.3000, )\n",
    "# image -= 0.4450\n",
    "# image /= 0.3000\n",
    "image = np.expand_dims(image, axis=0)\n",
    "image = image.reshape((1,3,64,64))\n",
    "print(image.shape)\n",
    "outname = [i.name for i in ort_session.get_outputs()]\n",
    "inname = [i.name for i in ort_session.get_inputs()]\n",
    "inp = {inname[0]:image}\n",
    "outputs = ort_session.run(outname, inp)[0]\n",
    "print(outputs)\n"
   ]
  }
 ],
 "metadata": {
  "kernelspec": {
   "display_name": "Python 3",
   "language": "python",
   "name": "python3"
  },
  "language_info": {
   "codemirror_mode": {
    "name": "ipython",
    "version": 3
   },
   "file_extension": ".py",
   "mimetype": "text/x-python",
   "name": "python",
   "nbconvert_exporter": "python",
   "pygments_lexer": "ipython3",
   "version": "3.10.6 (main, Nov 14 2022, 16:10:14) [GCC 11.3.0]"
  },
  "orig_nbformat": 4,
  "vscode": {
   "interpreter": {
    "hash": "31f2aee4e71d21fbe5cf8b01ff0e069b9275f58929596ceb00d14d90e3e16cd6"
   }
  }
 },
 "nbformat": 4,
 "nbformat_minor": 2
}
